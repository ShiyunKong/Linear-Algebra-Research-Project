{
 "cells": [
  {
   "cell_type": "code",
   "execution_count": 1,
   "metadata": {
    "collapsed": true
   },
   "outputs": [],
   "source": [
    "import numpy as np\n",
    "import timeit\n",
    "def compute():\n",
    "    global A\n",
    "    B = A\n",
    "    start_time = timeit.default_timer()\n",
    "    for i in range(100):\n",
    "        B = np.dot(B, A)\n",
    "    elapsed_time = timeit.default_timer() - start_time\n",
    "    return elapsed_time, B\n",
    "\n",
    "\n",
    "\n",
    "# Set parameters\n",
    "n = 3000  # Adjust based on the size of matrices\n",
    "\n",
    "# Measure running time for each task\n",
    "A = np.ones((n, n))\n",
    "\n",
    "\n",
    "\n",
    "\n"
   ]
  },
  {
   "cell_type": "code",
   "execution_count": 2,
   "outputs": [],
   "source": [
    "time = compute()"
   ],
   "metadata": {
    "collapsed": false
   }
  },
  {
   "cell_type": "code",
   "execution_count": 3,
   "outputs": [
    {
     "name": "stdout",
     "output_type": "stream",
     "text": [
      "Task 1 Matrix Multiplication: 16.46 seconds.\n",
      "Final Matrix is: [[inf inf inf ... inf inf inf]\n",
      " [inf inf inf ... inf inf inf]\n",
      " [inf inf inf ... inf inf inf]\n",
      " ...\n",
      " [inf inf inf ... inf inf inf]\n",
      " [inf inf inf ... inf inf inf]\n",
      " [inf inf inf ... inf inf inf]]\n"
     ]
    }
   ],
   "source": [
    "# Print results\n",
    "print(f\"Task 1 Matrix Multiplication: {time[0]:.2f} seconds.\\nFinal Matrix is: {time[1]}\")"
   ],
   "metadata": {
    "collapsed": false
   }
  },
  {
   "cell_type": "code",
   "execution_count": 4,
   "outputs": [
    {
     "name": "stdout",
     "output_type": "stream",
     "text": [
      "Time taken to solve least-squares system: 9.147119998931885 seconds\n",
      "Time taken to compute eigenvalues/vectors: 17.68561029434204 seconds\n"
     ]
    }
   ],
   "source": [
    "import numpy as np\n",
    "import time\n",
    "\n",
    "# Function to solve a least-squares system Ax = b\n",
    "def solve_least_squares(A, b):\n",
    "    start_time = time.time()\n",
    "    x, residuals, rank, s = np.linalg.lstsq(A, b, rcond=None)\n",
    "    end_time = time.time()\n",
    "    elapsed_time = end_time - start_time\n",
    "    return elapsed_time\n",
    "\n",
    "# Function to compute eigenvalues/vectors of a matrix A\n",
    "def compute_eigenvalues_vectors(A):\n",
    "    start_time = time.time()\n",
    "    eigenvalues, eigenvectors = np.linalg.eig(A)\n",
    "    end_time = time.time()\n",
    "    elapsed_time = end_time - start_time\n",
    "    return elapsed_time\n",
    "\n",
    "# Example usage\n",
    "m = 4000  # Number of rows\n",
    "n = m\n",
    "\n",
    "# Generate random matrices A and b\n",
    "A = np.random.rand(m, n)\n",
    "b = np.random.rand(m)\n",
    "\n",
    "# Time the least-squares system solution\n",
    "time_least_squares = solve_least_squares(A, b)\n",
    "print(f\"Time taken to solve least-squares system: {time_least_squares} seconds\")\n",
    "\n",
    "# Time the eigenvalues/vectors computation\n",
    "time_eigenvalues_vectors = compute_eigenvalues_vectors(A)\n",
    "print(f\"Time taken to compute eigenvalues/vectors: {time_eigenvalues_vectors} seconds\")\n"
   ],
   "metadata": {
    "collapsed": false
   }
  },
  {
   "cell_type": "code",
   "execution_count": null,
   "outputs": [],
   "source": [],
   "metadata": {
    "collapsed": false
   }
  }
 ],
 "metadata": {
  "kernelspec": {
   "display_name": "Python 3",
   "language": "python",
   "name": "python3"
  },
  "language_info": {
   "codemirror_mode": {
    "name": "ipython",
    "version": 2
   },
   "file_extension": ".py",
   "mimetype": "text/x-python",
   "name": "python",
   "nbconvert_exporter": "python",
   "pygments_lexer": "ipython2",
   "version": "2.7.6"
  }
 },
 "nbformat": 4,
 "nbformat_minor": 0
}
