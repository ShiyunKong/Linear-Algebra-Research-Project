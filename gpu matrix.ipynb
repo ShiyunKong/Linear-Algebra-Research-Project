{
 "cells": [
  {
   "cell_type": "code",
   "execution_count": 13,
   "outputs": [
    {
     "name": "stdout",
     "output_type": "stream",
     "text": [
      "Task 1 Matrix Multiplication on GPU: 0.001999 seconds.\n",
      "Final Matrix is: [[inf inf inf ... inf inf inf]\n",
      " [inf inf inf ... inf inf inf]\n",
      " [inf inf inf ... inf inf inf]\n",
      " ...\n",
      " [inf inf inf ... inf inf inf]\n",
      " [inf inf inf ... inf inf inf]\n",
      " [inf inf inf ... inf inf inf]]\n"
     ]
    }
   ],
   "source": [
    "import torch\n",
    "import time\n",
    "\n",
    "def compute_gpu():\n",
    "    # Move the matrix A to GPU\n",
    "    global B_gpu\n",
    "    A_gpu = torch.ones((n, n), device='cuda')\n",
    "\n",
    "    # Warm-up GPU to ensure proper initialization\n",
    "    torch.matmul(A_gpu, A_gpu)\n",
    "    B_gpu = A_gpu\n",
    "    # Measure the time for matrix multiplication\n",
    "    start_time = time.perf_counter()\n",
    "    for i in range(100):\n",
    "        B_gpu = torch.matmul(B_gpu, A_gpu)\n",
    "    elapsed_time = time.perf_counter() - start_time\n",
    "\n",
    "    # Move the result matrix back to CPU for printing\n",
    "    B_cpu = B_gpu.cpu().numpy()\n",
    "\n",
    "    return elapsed_time, B_cpu\n",
    "\n",
    "# Set parameters\n",
    "n = 3000  # Adjust based on the size of matrices\n",
    "\n",
    "# Measure running time for the GPU matrix multiplication task\n",
    "time_gpu = compute_gpu()\n",
    "\n",
    "# Print results\n",
    "print(f\"Task 1 Matrix Multiplication on GPU: {time_gpu[0]:.6f} seconds.\")\n",
    "print(f\"Final Matrix is: {time_gpu[1]}\")\n"
   ],
   "metadata": {
    "collapsed": false
   }
  },
  {
   "cell_type": "code",
   "execution_count": 14,
   "outputs": [],
   "source": [
    "import numpy as np"
   ],
   "metadata": {
    "collapsed": false
   }
  },
  {
   "cell_type": "code",
   "execution_count": 15,
   "outputs": [
    {
     "name": "stdout",
     "output_type": "stream",
     "text": [
      "Using device: cuda\n",
      "Time taken to solve least-squares system: 0.02631545066833496 seconds\n",
      "Time taken to compute eigenvalues/vectors: 1.1686208248138428 seconds\n"
     ]
    }
   ],
   "source": [
    "import torch\n",
    "import time\n",
    "\n",
    "# Function to solve a least-squares system Ax = b using PyTorch\n",
    "def solve_least_squares(A, b):\n",
    "    start_time = time.time()\n",
    "\n",
    "    # Convert NumPy arrays to PyTorch tensors\n",
    "    A_torch = torch.tensor(A, dtype=torch.float32)\n",
    "    b_torch = torch.tensor(b, dtype=torch.float32)\n",
    "\n",
    "    # Use PyTorch's least squares solver\n",
    "    x, residuals, _, _ = torch.linalg.lstsq(b_torch.unsqueeze(1), A_torch)\n",
    "\n",
    "    end_time = time.time()\n",
    "    elapsed_time = end_time - start_time\n",
    "    return elapsed_time\n",
    "\n",
    "# Function to compute eigenvalues/vectors of a matrix A using PyTorch\n",
    "def compute_eigenvalues_vectors(A):\n",
    "    start_time = time.time()\n",
    "\n",
    "    # Convert NumPy array to PyTorch tensor\n",
    "    A_torch = torch.tensor(A, dtype=torch.float32)\n",
    "\n",
    "    # Use PyTorch's eigenvalue solver\n",
    "    eigenvalues, eigenvectors = torch.linalg.eigh(A_torch)\n",
    "\n",
    "    end_time = time.time()\n",
    "    elapsed_time = end_time - start_time\n",
    "    return elapsed_time\n",
    "\n",
    "# Set device to GPU if available\n",
    "device = torch.device(\"cuda\" if torch.cuda.is_available() else \"cpu\")\n",
    "print(f\"Using device: {device}\")\n",
    "\n",
    "# Example usage\n",
    "m = 4000  # Number of rows\n",
    "n = m\n",
    "\n",
    "# Generate random matrices A and b\n",
    "A = np.random.rand(m, n)\n",
    "b = np.random.rand(m)\n",
    "\n",
    "# Time the least-squares system solution\n",
    "time_least_squares = solve_least_squares(A, b)\n",
    "print(f\"Time taken to solve least-squares system: {time_least_squares} seconds\")\n",
    "\n",
    "# Time the eigenvalues/vectors computation\n",
    "time_eigenvalues_vectors = compute_eigenvalues_vectors(A)\n",
    "print(f\"Time taken to compute eigenvalues/vectors: {time_eigenvalues_vectors} seconds\")\n"
   ],
   "metadata": {
    "collapsed": false
   }
  }
 ],
 "metadata": {
  "kernelspec": {
   "display_name": "Python 3",
   "language": "python",
   "name": "python3"
  },
  "language_info": {
   "codemirror_mode": {
    "name": "ipython",
    "version": 2
   },
   "file_extension": ".py",
   "mimetype": "text/x-python",
   "name": "python",
   "nbconvert_exporter": "python",
   "pygments_lexer": "ipython2",
   "version": "2.7.6"
  }
 },
 "nbformat": 4,
 "nbformat_minor": 0
}
