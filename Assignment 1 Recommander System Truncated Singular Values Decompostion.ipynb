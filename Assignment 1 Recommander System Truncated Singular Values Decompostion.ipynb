{
 "cells": [
  {
   "cell_type": "markdown",
   "source": [
    "The assignment you've provided seems to be a comprehensive exercise related to recommender systems, involving the use of linear algebra concepts such as vector angles, norms, and low-rank matrices. Below, I'll provide guidance and suggestions for each part of the assignment:\n",
    "\n",
    "### Part (a): Movie Ratings\n",
    "1. **Select Movies:**\n",
    "   - As a group, agree on approximately 8 movies or TV series.\n",
    "   - One group member rates all items, while another rates only half of them, keeping the other ratings secret.\n",
    "\n",
    "### Part (b): Scaling of Ratings\n",
    "2. **Reason for Scaling:**\n",
    "   - Consider the reason behind scaling ratings in the range \\(-2\\) to \\(2\\) instead of the usual \\(1\\) to \\(5\\).\n",
    "   - Think about the possible angles between vectors representing movie preferences when using each scaling.\n",
    "\n",
    "### Part (c): Average and Extreme Tastes\n",
    "3. **Identify Taste Characteristics:**\n",
    "   - Determine who has the \"average\" taste based on the ratings.\n",
    "   - Identify the group member with the most extreme taste.\n",
    "   - Consider using norms or other measures to quantify taste characteristics.\n",
    "\n",
    "### Part (d): Predicting Missing Ratings\n",
    "4. **Prediction Based on Norms or Angles:**\n",
    "   - Explore methods to predict missing ratings using norms or angles between vectors.\n",
    "   - Consider cosine similarity or other similarity metrics.\n",
    "   - Evaluate how well the predictions match the true scores.\n",
    "\n",
    "### Part (e): Low-Rank Matrices (TSVD)\n",
    "5. **Predictions using Low-Rank Matrices:**\n",
    "   - Apply Truncated Singular Value Decomposition (TSVD) to represent the ratings matrix as a low-rank approximation.\n",
    "   - Replace missing entries with zeros and assess the predictions.\n",
    "   - Compare the results with the norm or angle-based predictions from Part (d).\n",
    "\n",
    "### Additional Considerations:\n",
    "- **Collaboration:** If working with another group, ensure effective collaboration and communication.\n",
    "- **Data Representation:** Represent the movie ratings as a matrix, where rows correspond to group members and columns correspond to movies.\n",
    "- **Implementation:** Develop your own methods and code for the assignment, as specified in the instructions.\n",
    "\n",
    "For the actual implementation, you might use NumPy for linear algebra operations in Python. It's important to interpret the results and reflect on the effectiveness of different approaches in predicting missing ratings.\n",
    "\n",
    "This assignment provides an opportunity to apply concepts learned in class to a real-world problem, showcasing the practical use of linear algebra in recommender systems."
   ],
   "metadata": {
    "collapsed": false
   }
  },
  {
   "cell_type": "code",
   "execution_count": 1,
   "outputs": [],
   "source": [
    "import numpy as np\n",
    "import pandas as pd"
   ],
   "metadata": {
    "collapsed": false
   }
  },
  {
   "cell_type": "code",
   "execution_count": 2,
   "outputs": [
    {
     "name": "stdout",
     "output_type": "stream",
     "text": [
      "<class 'pandas.core.frame.DataFrame'>\n",
      "RangeIndex: 8 entries, 0 to 7\n",
      "Data columns (total 5 columns):\n",
      " #   Column  Non-Null Count  Dtype\n",
      "---  ------  --------------  -----\n",
      " 0   Tim     8 non-null      int64\n",
      " 1   Alex    8 non-null      int64\n",
      " 2   Yuan    8 non-null      int64\n",
      " 3   Alan    8 non-null      int64\n",
      " 4   Peter   8 non-null      int64\n",
      "dtypes: int64(5)\n",
      "memory usage: 448.0 bytes\n"
     ]
    }
   ],
   "source": [
    "df = pd.read_csv(\"./datasets/movie new.csv\")\n",
    "\n",
    "df.columns = df.iloc[0]\n",
    "df = df.iloc[1:]\n",
    "df = df.iloc[:, 1:]\n",
    "df = df.reset_index().drop('index', axis=1)\n",
    "for i in range(len(df.columns)):\n",
    "    df[df.columns[i]] = pd.to_numeric(df[df.columns[i]])\n",
    "df.info()"
   ],
   "metadata": {
    "collapsed": false
   }
  },
  {
   "cell_type": "code",
   "execution_count": 3,
   "outputs": [
    {
     "data": {
      "text/plain": "numpy.ndarray"
     },
     "execution_count": 3,
     "metadata": {},
     "output_type": "execute_result"
    }
   ],
   "source": [
    "array_from_df = df.values\n",
    "type(array_from_df)"
   ],
   "metadata": {
    "collapsed": false
   }
  },
  {
   "cell_type": "code",
   "execution_count": 4,
   "outputs": [
    {
     "data": {
      "text/plain": "   Tim  Alex  Yuan  Alan  Peter\n0  NaN   1.0   1.0   2.0    NaN\n1  1.0   0.0   NaN   NaN    0.0\n2  NaN   NaN   NaN   0.0    NaN\n3  NaN   NaN   0.0   NaN   -2.0\n4  2.0   2.0   0.0   NaN    NaN\n5  NaN   NaN   NaN   0.0    2.0\n6  2.0   1.0   NaN   1.0    0.0\n7  0.0   NaN   2.0   NaN    NaN",
      "text/html": "<div>\n<style scoped>\n    .dataframe tbody tr th:only-of-type {\n        vertical-align: middle;\n    }\n\n    .dataframe tbody tr th {\n        vertical-align: top;\n    }\n\n    .dataframe thead th {\n        text-align: right;\n    }\n</style>\n<table border=\"1\" class=\"dataframe\">\n  <thead>\n    <tr style=\"text-align: right;\">\n      <th></th>\n      <th>Tim</th>\n      <th>Alex</th>\n      <th>Yuan</th>\n      <th>Alan</th>\n      <th>Peter</th>\n    </tr>\n  </thead>\n  <tbody>\n    <tr>\n      <th>0</th>\n      <td>NaN</td>\n      <td>1.0</td>\n      <td>1.0</td>\n      <td>2.0</td>\n      <td>NaN</td>\n    </tr>\n    <tr>\n      <th>1</th>\n      <td>1.0</td>\n      <td>0.0</td>\n      <td>NaN</td>\n      <td>NaN</td>\n      <td>0.0</td>\n    </tr>\n    <tr>\n      <th>2</th>\n      <td>NaN</td>\n      <td>NaN</td>\n      <td>NaN</td>\n      <td>0.0</td>\n      <td>NaN</td>\n    </tr>\n    <tr>\n      <th>3</th>\n      <td>NaN</td>\n      <td>NaN</td>\n      <td>0.0</td>\n      <td>NaN</td>\n      <td>-2.0</td>\n    </tr>\n    <tr>\n      <th>4</th>\n      <td>2.0</td>\n      <td>2.0</td>\n      <td>0.0</td>\n      <td>NaN</td>\n      <td>NaN</td>\n    </tr>\n    <tr>\n      <th>5</th>\n      <td>NaN</td>\n      <td>NaN</td>\n      <td>NaN</td>\n      <td>0.0</td>\n      <td>2.0</td>\n    </tr>\n    <tr>\n      <th>6</th>\n      <td>2.0</td>\n      <td>1.0</td>\n      <td>NaN</td>\n      <td>1.0</td>\n      <td>0.0</td>\n    </tr>\n    <tr>\n      <th>7</th>\n      <td>0.0</td>\n      <td>NaN</td>\n      <td>2.0</td>\n      <td>NaN</td>\n      <td>NaN</td>\n    </tr>\n  </tbody>\n</table>\n</div>"
     },
     "execution_count": 4,
     "metadata": {},
     "output_type": "execute_result"
    }
   ],
   "source": [
    "df_half = pd.read_csv(\"./datasets/movie person.csv\")\n",
    "# df_half.columns = df_half.iloc[0]\n",
    "# df_half = df_half.iloc[:, :]\n",
    "# df_half = df_half.reset_index().drop('index', axis=1)\n",
    "df_half"
   ],
   "metadata": {
    "collapsed": false
   }
  },
  {
   "cell_type": "code",
   "execution_count": 5,
   "outputs": [
    {
     "name": "stdout",
     "output_type": "stream",
     "text": [
      "<class 'pandas.core.frame.DataFrame'>\n",
      "RangeIndex: 8 entries, 0 to 7\n",
      "Data columns (total 5 columns):\n",
      " #   Column  Non-Null Count  Dtype  \n",
      "---  ------  --------------  -----  \n",
      " 0   Tim     4 non-null      float64\n",
      " 1   Alex    4 non-null      float64\n",
      " 2   Yuan    4 non-null      float64\n",
      " 3   Alan    4 non-null      float64\n",
      " 4   Peter   4 non-null      float64\n",
      "dtypes: float64(5)\n",
      "memory usage: 448.0 bytes\n"
     ]
    }
   ],
   "source": [
    "df_half.info()"
   ],
   "metadata": {
    "collapsed": false
   }
  },
  {
   "cell_type": "code",
   "execution_count": 6,
   "outputs": [
    {
     "name": "stdout",
     "output_type": "stream",
     "text": [
      "<class 'pandas.core.frame.DataFrame'>\n",
      "RangeIndex: 8 entries, 0 to 7\n",
      "Data columns (total 5 columns):\n",
      " #   Column  Non-Null Count  Dtype  \n",
      "---  ------  --------------  -----  \n",
      " 0   Tim     4 non-null      float64\n",
      " 1   Alex    4 non-null      float64\n",
      " 2   Yuan    4 non-null      float64\n",
      " 3   Alan    4 non-null      float64\n",
      " 4   Peter   4 non-null      float64\n",
      "dtypes: float64(5)\n",
      "memory usage: 448.0 bytes\n"
     ]
    }
   ],
   "source": [
    "for i in range(len(df_half.columns)):\n",
    "    df_half[df_half.columns[i]] = pd.to_numeric(df_half[df_half.columns[i]])\n",
    "df_half.info()"
   ],
   "metadata": {
    "collapsed": false
   }
  },
  {
   "cell_type": "code",
   "execution_count": 7,
   "outputs": [
    {
     "name": "stdout",
     "output_type": "stream",
     "text": [
      "Cosine Similarity Matrix:\n",
      "          0         1         2         3         4         5         6  \\\n",
      "0  1.000000  0.707107 -0.666667 -0.666667  0.894427  0.666667  0.707107   \n",
      "1  0.707107  1.000000  0.000000  0.000000  0.632456  0.000000  1.000000   \n",
      "2 -0.666667  0.000000  1.000000  1.000000 -0.447214 -1.000000  0.000000   \n",
      "3 -0.666667  0.000000  1.000000  1.000000 -0.447214 -1.000000  0.000000   \n",
      "4  0.894427  0.632456 -0.447214 -0.447214  1.000000  0.447214  0.632456   \n",
      "5  0.666667  0.000000 -1.000000 -1.000000  0.447214  1.000000  0.000000   \n",
      "6  0.707107  1.000000  0.000000  0.000000  0.632456  0.000000  1.000000   \n",
      "7  0.816497  0.866025 -0.408248 -0.408248  0.547723  0.408248  0.866025   \n",
      "\n",
      "          7  \n",
      "0  0.816497  \n",
      "1  0.866025  \n",
      "2 -0.408248  \n",
      "3 -0.408248  \n",
      "4  0.547723  \n",
      "5  0.408248  \n",
      "6  0.866025  \n",
      "7  1.000000  \n"
     ]
    }
   ],
   "source": [
    "import pandas as pd\n",
    "from sklearn.metrics.pairwise import cosine_similarity\n",
    "\n",
    "\n",
    "# Calculate cosine similarity between rows\n",
    "cosine_sim_matrix = cosine_similarity(df.iloc[:, 2:])\n",
    "\n",
    "# Create a DataFrame from the similarity matrix\n",
    "cosine_sim_df = pd.DataFrame(cosine_sim_matrix, index=df.index, columns=df.index)\n",
    "\n",
    "print(\"Cosine Similarity Matrix:\")\n",
    "print(cosine_sim_df)\n"
   ],
   "metadata": {
    "collapsed": false
   }
  },
  {
   "cell_type": "code",
   "execution_count": 8,
   "outputs": [
    {
     "name": "stdout",
     "output_type": "stream",
     "text": [
      "        Tim  Alex      Yuan      Alan     Peter\n",
      "0  1.291667   1.0  1.000000  2.000000  0.666667\n",
      "1  1.000000   0.0  0.541667  0.541667  0.000000\n",
      "2  0.625000   0.5  0.375000  0.000000  0.000000\n",
      "3  0.125000   0.0  0.000000 -0.125000 -2.000000\n",
      "4  2.000000   2.0  0.000000  1.041667  0.666667\n",
      "5  1.125000   1.0  0.875000  0.000000  2.000000\n",
      "6  2.000000   1.0  0.875000  1.000000  0.000000\n",
      "7  0.000000   1.0  2.000000  0.875000  0.500000\n"
     ]
    }
   ],
   "source": [
    "# Function to fill NaN with the average of column and row means\n",
    "def fill_nan_with_avg(dataframe):\n",
    "    col_means = dataframe.mean(axis=0, numeric_only=True)\n",
    "    row_means = dataframe.mean(axis=1, numeric_only=True)\n",
    "\n",
    "    for i in range(dataframe.shape[0]):\n",
    "        for j in range(dataframe.shape[1]):\n",
    "            if pd.isna(dataframe.iloc[i, j]):\n",
    "                dataframe.iloc[i, j] = (col_means[j] + row_means[i]) / 2\n",
    "    return df_half\n",
    "# Fill NaN with the average of column and row means\n",
    "df_filled = fill_nan_with_avg(df_half)\n",
    "# df_filled = df_half.fillna(0)\n",
    "print(df_filled)"
   ],
   "metadata": {
    "collapsed": false
   }
  },
  {
   "cell_type": "code",
   "execution_count": 9,
   "outputs": [
    {
     "data": {
      "text/plain": "0  Tim  Alex  Yuan  Alan  Peter\n0    1     1     1     2      2\n1    1     0     2     2      0\n2   -2     2     0     0     -1\n3   -1     1     0     0     -2\n4    2     2     0     2      1\n5    2    -1     0     0      2\n6    2     1     1     1      0\n7    0     1     2     1      1",
      "text/html": "<div>\n<style scoped>\n    .dataframe tbody tr th:only-of-type {\n        vertical-align: middle;\n    }\n\n    .dataframe tbody tr th {\n        vertical-align: top;\n    }\n\n    .dataframe thead th {\n        text-align: right;\n    }\n</style>\n<table border=\"1\" class=\"dataframe\">\n  <thead>\n    <tr style=\"text-align: right;\">\n      <th></th>\n      <th>Tim</th>\n      <th>Alex</th>\n      <th>Yuan</th>\n      <th>Alan</th>\n      <th>Peter</th>\n    </tr>\n  </thead>\n  <tbody>\n    <tr>\n      <th>0</th>\n      <td>1</td>\n      <td>1</td>\n      <td>1</td>\n      <td>2</td>\n      <td>2</td>\n    </tr>\n    <tr>\n      <th>1</th>\n      <td>1</td>\n      <td>0</td>\n      <td>2</td>\n      <td>2</td>\n      <td>0</td>\n    </tr>\n    <tr>\n      <th>2</th>\n      <td>-2</td>\n      <td>2</td>\n      <td>0</td>\n      <td>0</td>\n      <td>-1</td>\n    </tr>\n    <tr>\n      <th>3</th>\n      <td>-1</td>\n      <td>1</td>\n      <td>0</td>\n      <td>0</td>\n      <td>-2</td>\n    </tr>\n    <tr>\n      <th>4</th>\n      <td>2</td>\n      <td>2</td>\n      <td>0</td>\n      <td>2</td>\n      <td>1</td>\n    </tr>\n    <tr>\n      <th>5</th>\n      <td>2</td>\n      <td>-1</td>\n      <td>0</td>\n      <td>0</td>\n      <td>2</td>\n    </tr>\n    <tr>\n      <th>6</th>\n      <td>2</td>\n      <td>1</td>\n      <td>1</td>\n      <td>1</td>\n      <td>0</td>\n    </tr>\n    <tr>\n      <th>7</th>\n      <td>0</td>\n      <td>1</td>\n      <td>2</td>\n      <td>1</td>\n      <td>1</td>\n    </tr>\n  </tbody>\n</table>\n</div>"
     },
     "execution_count": 9,
     "metadata": {},
     "output_type": "execute_result"
    }
   ],
   "source": [
    "df"
   ],
   "metadata": {
    "collapsed": false
   }
  },
  {
   "cell_type": "code",
   "execution_count": 10,
   "outputs": [
    {
     "name": "stdout",
     "output_type": "stream",
     "text": [
      "U matrix:\n",
      "[[-0.48505609  0.11800579  0.23062228 -0.66825346  0.00096714  0.24209665\n",
      "  -0.26384037 -0.35046031]\n",
      " [-0.18269191  0.16210602  0.04312251 -0.05779835 -0.61181982 -0.38658052\n",
      "  -0.41457185  0.48939482]\n",
      " [-0.13529039  0.08011842 -0.03383279  0.34533579 -0.04034273 -0.56402751\n",
      "  -0.20438982 -0.70238616]\n",
      " [ 0.11696334  0.69737348  0.12254148  0.38789476  0.08997808  0.43671671\n",
      "  -0.36830215 -0.00685737]\n",
      " [-0.51014962  0.16652287 -0.51723215  0.02968421  0.56220397 -0.18559203\n",
      "  -0.07575312  0.29555204]\n",
      " [-0.38614602 -0.55242903 -0.15816903  0.42772281 -0.21795224  0.4580823\n",
      "  -0.2800371  -0.04456253]\n",
      " [-0.43472893  0.34599515 -0.06565007  0.1552723  -0.39772155  0.11382071\n",
      "   0.69784752 -0.06891981]\n",
      " [-0.31782024 -0.12011322  0.79494419  0.26914693  0.30690888 -0.16080185\n",
      "   0.09973109  0.22403165]]\n",
      "\n",
      "S matrix (singular values):\n",
      "[[5.50748055 0.         0.         0.         0.        ]\n",
      " [0.         2.61409383 0.         0.         0.        ]\n",
      " [0.         0.         2.04789908 0.         0.        ]\n",
      " [0.         0.         0.         1.2139175  0.        ]\n",
      " [0.         0.         0.         0.         1.0103721 ]]\n",
      "\n",
      "VT matrix:\n",
      "[[-0.58163259 -0.49236592 -0.36108238 -0.42268297 -0.33202102]\n",
      " [ 0.32719914  0.06295246 -0.07076963  0.24903648 -0.90661469]\n",
      " [-0.49246704 -0.12189728  0.79854505  0.27365973 -0.17335921]\n",
      " [ 0.16019527  0.34263029  0.39405859 -0.81933433 -0.17421552]\n",
      " [-0.53521766  0.78826285 -0.26768415  0.11454934 -0.08606611]]\n"
     ]
    }
   ],
   "source": [
    "# Compute SVD\n",
    "U, S, VT = np.linalg.svd(df_filled)\n",
    "\n",
    "print(\"U matrix:\")\n",
    "print(U)\n",
    "\n",
    "print(\"\\nS matrix (singular values):\")\n",
    "print(np.diag(S))\n",
    "\n",
    "print(\"\\nVT matrix:\")\n",
    "print(VT)"
   ],
   "metadata": {
    "collapsed": false
   }
  },
  {
   "cell_type": "code",
   "execution_count": 11,
   "outputs": [
    {
     "name": "stdout",
     "output_type": "stream",
     "text": [
      "Original Matrix A:\n",
      "        Tim  Alex      Yuan      Alan     Peter\n",
      "0  1.291667   1.0  1.000000  2.000000  0.666667\n",
      "1  1.000000   0.0  0.541667  0.541667  0.000000\n",
      "2  0.625000   0.5  0.375000  0.000000  0.000000\n",
      "3  0.125000   0.0  0.000000 -0.125000 -2.000000\n",
      "4  2.000000   2.0  0.000000  1.041667  0.666667\n",
      "5  1.125000   1.0  0.875000  0.000000  2.000000\n",
      "6  2.000000   1.0  0.875000  1.000000  0.000000\n",
      "7  0.000000   1.0  2.000000  0.875000  0.500000\n",
      "\n",
      "Rank-1 Approximation:\n",
      "[[ 1.55379482  1.31532454  0.96460883  1.12917092  0.88697325]\n",
      " [ 0.58522251  0.49540488  0.36331103  0.42529183  0.33407031]\n",
      " [ 0.4333798   0.36686639  0.26904581  0.31494498  0.24739193]\n",
      " [-0.37467221 -0.317169   -0.23259964 -0.2722811  -0.21387909]\n",
      " [ 1.63417767  1.38337055  1.01451117  1.1875866   0.93285926]\n",
      " [ 1.2369532   1.04711052  0.7679109   0.89891636  0.70610636]\n",
      " [ 1.3925803   1.17885259  0.86452551  1.0120134   0.79494503]\n",
      " [ 1.01808316  0.86183178  0.63203454  0.73985953  0.58116588]]\n"
     ]
    }
   ],
   "source": [
    "# Retain only the first singular value and corresponding columns of U and V\n",
    "\n",
    "rank_1_approximation = S[0] * np.outer(U[:, 0], VT[0, :])\n",
    "\n",
    "# Display the original matrix and the rank-1 approximation\n",
    "print(\"Original Matrix A:\")\n",
    "print(df_filled)\n",
    "print(\"\\nRank-1 Approximation:\")\n",
    "print(rank_1_approximation)"
   ],
   "metadata": {
    "collapsed": false
   }
  },
  {
   "cell_type": "code",
   "execution_count": 12,
   "outputs": [
    {
     "name": "stdout",
     "output_type": "stream",
     "text": [
      "Original Matrix A:\n",
      "        Tim  Alex      Yuan      Alan     Peter\n",
      "0  1.291667   1.0  1.000000  2.000000  0.666667\n",
      "1  1.000000   0.0  0.541667  0.541667  0.000000\n",
      "2  0.625000   0.5  0.375000  0.000000  0.000000\n",
      "3  0.125000   0.0  0.000000 -0.125000 -2.000000\n",
      "4  2.000000   2.0  0.000000  1.041667  0.666667\n",
      "5  1.125000   1.0  0.875000  0.000000  2.000000\n",
      "6  2.000000   1.0  0.875000  1.000000  0.000000\n",
      "7  0.000000   1.0  2.000000  0.875000  0.500000\n",
      "\n",
      "Rank-3 Approximation:\n",
      "[[ 1.42214080e+00  1.27717299e+00  1.31992370e+00  1.33524032e+00\n",
      "   5.25426345e-01]\n",
      " [ 6.80386497e-01  5.11316816e-01  4.03841617e-01  5.54990656e-01\n",
      "  -6.54264973e-02]\n",
      " [ 5.36028579e-01  3.88496758e-01  1.98895912e-01  3.48141620e-01\n",
      "   6.95245852e-02]\n",
      " [ 9.82258509e-02 -2.32997123e-01 -1.61215723e-01  2.50387951e-01\n",
      "  -1.91014237e+00]\n",
      " [ 2.29824997e+00  1.53989255e+00  1.37854441e-01  1.00612265e+00\n",
      "   7.21832960e-01]\n",
      " [ 9.23961566e-01  9.95685051e-01  6.11449328e-01  4.50640173e-01\n",
      "   2.07150335e+00]\n",
      " [ 1.75472967e+00  1.25217926e+00  6.93156769e-01  1.20046578e+00\n",
      "  -1.74789322e-03]\n",
      " [ 1.13627462e-01  6.43620946e-01  1.95425908e+00  1.10717384e+00\n",
      "   5.83608498e-01]]\n"
     ]
    }
   ],
   "source": [
    "rank_3_approximation = (\n",
    "        S[0] * np.outer(U[:, 0], VT[0, :]) +\n",
    "        S[1] * np.outer(U[:, 1], VT[1, :]) +\n",
    "        S[2] * np.outer(U[:, 2], VT[2, :])\n",
    ")\n",
    "\n",
    "# Display the original matrix and the rank-3 approximation\n",
    "print(\"Original Matrix A:\")\n",
    "print(df_filled)\n",
    "print(\"\\nRank-3 Approximation:\")\n",
    "print(rank_3_approximation)"
   ],
   "metadata": {
    "collapsed": false
   }
  },
  {
   "cell_type": "code",
   "execution_count": 13,
   "outputs": [
    {
     "data": {
      "text/plain": "        Tim      Alex      Yuan      Alan     Peter\n0  1.553795  1.315325  0.964609  1.129171  0.886973\n1  0.585223  0.495405  0.363311  0.425292  0.334070\n2  0.433380  0.366866  0.269046  0.314945  0.247392\n3 -0.374672 -0.317169 -0.232600 -0.272281 -0.213879\n4  1.634178  1.383371  1.014511  1.187587  0.932859\n5  1.236953  1.047111  0.767911  0.898916  0.706106\n6  1.392580  1.178853  0.864526  1.012013  0.794945\n7  1.018083  0.861832  0.632035  0.739860  0.581166",
      "text/html": "<div>\n<style scoped>\n    .dataframe tbody tr th:only-of-type {\n        vertical-align: middle;\n    }\n\n    .dataframe tbody tr th {\n        vertical-align: top;\n    }\n\n    .dataframe thead th {\n        text-align: right;\n    }\n</style>\n<table border=\"1\" class=\"dataframe\">\n  <thead>\n    <tr style=\"text-align: right;\">\n      <th></th>\n      <th>Tim</th>\n      <th>Alex</th>\n      <th>Yuan</th>\n      <th>Alan</th>\n      <th>Peter</th>\n    </tr>\n  </thead>\n  <tbody>\n    <tr>\n      <th>0</th>\n      <td>1.553795</td>\n      <td>1.315325</td>\n      <td>0.964609</td>\n      <td>1.129171</td>\n      <td>0.886973</td>\n    </tr>\n    <tr>\n      <th>1</th>\n      <td>0.585223</td>\n      <td>0.495405</td>\n      <td>0.363311</td>\n      <td>0.425292</td>\n      <td>0.334070</td>\n    </tr>\n    <tr>\n      <th>2</th>\n      <td>0.433380</td>\n      <td>0.366866</td>\n      <td>0.269046</td>\n      <td>0.314945</td>\n      <td>0.247392</td>\n    </tr>\n    <tr>\n      <th>3</th>\n      <td>-0.374672</td>\n      <td>-0.317169</td>\n      <td>-0.232600</td>\n      <td>-0.272281</td>\n      <td>-0.213879</td>\n    </tr>\n    <tr>\n      <th>4</th>\n      <td>1.634178</td>\n      <td>1.383371</td>\n      <td>1.014511</td>\n      <td>1.187587</td>\n      <td>0.932859</td>\n    </tr>\n    <tr>\n      <th>5</th>\n      <td>1.236953</td>\n      <td>1.047111</td>\n      <td>0.767911</td>\n      <td>0.898916</td>\n      <td>0.706106</td>\n    </tr>\n    <tr>\n      <th>6</th>\n      <td>1.392580</td>\n      <td>1.178853</td>\n      <td>0.864526</td>\n      <td>1.012013</td>\n      <td>0.794945</td>\n    </tr>\n    <tr>\n      <th>7</th>\n      <td>1.018083</td>\n      <td>0.861832</td>\n      <td>0.632035</td>\n      <td>0.739860</td>\n      <td>0.581166</td>\n    </tr>\n  </tbody>\n</table>\n</div>"
     },
     "execution_count": 13,
     "metadata": {},
     "output_type": "execute_result"
    }
   ],
   "source": [
    "tsvd_rank1 = pd.DataFrame(data=rank_1_approximation, columns=df_filled.columns)\n",
    "tsvd_rank1"
   ],
   "metadata": {
    "collapsed": false
   }
  },
  {
   "cell_type": "code",
   "execution_count": 14,
   "outputs": [
    {
     "data": {
      "text/plain": "        Tim      Alex      Yuan      Alan     Peter\n0  1.422141  1.277173  1.319924  1.335240  0.525426\n1  0.680386  0.511317  0.403842  0.554991 -0.065426\n2  0.536029  0.388497  0.198896  0.348142  0.069525\n3  0.098226 -0.232997 -0.161216  0.250388 -1.910142\n4  2.298250  1.539893  0.137854  1.006123  0.721833\n5  0.923962  0.995685  0.611449  0.450640  2.071503\n6  1.754730  1.252179  0.693157  1.200466 -0.001748\n7  0.113627  0.643621  1.954259  1.107174  0.583608",
      "text/html": "<div>\n<style scoped>\n    .dataframe tbody tr th:only-of-type {\n        vertical-align: middle;\n    }\n\n    .dataframe tbody tr th {\n        vertical-align: top;\n    }\n\n    .dataframe thead th {\n        text-align: right;\n    }\n</style>\n<table border=\"1\" class=\"dataframe\">\n  <thead>\n    <tr style=\"text-align: right;\">\n      <th></th>\n      <th>Tim</th>\n      <th>Alex</th>\n      <th>Yuan</th>\n      <th>Alan</th>\n      <th>Peter</th>\n    </tr>\n  </thead>\n  <tbody>\n    <tr>\n      <th>0</th>\n      <td>1.422141</td>\n      <td>1.277173</td>\n      <td>1.319924</td>\n      <td>1.335240</td>\n      <td>0.525426</td>\n    </tr>\n    <tr>\n      <th>1</th>\n      <td>0.680386</td>\n      <td>0.511317</td>\n      <td>0.403842</td>\n      <td>0.554991</td>\n      <td>-0.065426</td>\n    </tr>\n    <tr>\n      <th>2</th>\n      <td>0.536029</td>\n      <td>0.388497</td>\n      <td>0.198896</td>\n      <td>0.348142</td>\n      <td>0.069525</td>\n    </tr>\n    <tr>\n      <th>3</th>\n      <td>0.098226</td>\n      <td>-0.232997</td>\n      <td>-0.161216</td>\n      <td>0.250388</td>\n      <td>-1.910142</td>\n    </tr>\n    <tr>\n      <th>4</th>\n      <td>2.298250</td>\n      <td>1.539893</td>\n      <td>0.137854</td>\n      <td>1.006123</td>\n      <td>0.721833</td>\n    </tr>\n    <tr>\n      <th>5</th>\n      <td>0.923962</td>\n      <td>0.995685</td>\n      <td>0.611449</td>\n      <td>0.450640</td>\n      <td>2.071503</td>\n    </tr>\n    <tr>\n      <th>6</th>\n      <td>1.754730</td>\n      <td>1.252179</td>\n      <td>0.693157</td>\n      <td>1.200466</td>\n      <td>-0.001748</td>\n    </tr>\n    <tr>\n      <th>7</th>\n      <td>0.113627</td>\n      <td>0.643621</td>\n      <td>1.954259</td>\n      <td>1.107174</td>\n      <td>0.583608</td>\n    </tr>\n  </tbody>\n</table>\n</div>"
     },
     "execution_count": 14,
     "metadata": {},
     "output_type": "execute_result"
    }
   ],
   "source": [
    "tsvd_rank3 = pd.DataFrame(data=rank_3_approximation, columns=df_filled.columns)\n",
    "tsvd_rank3"
   ],
   "metadata": {
    "collapsed": false
   }
  },
  {
   "cell_type": "code",
   "execution_count": 15,
   "outputs": [
    {
     "data": {
      "text/plain": "        Tim  Alex      Yuan      Alan     Peter\n0  1.291667   1.0  1.000000  2.000000  1.166667\n1  1.000000   0.0  0.541667  0.541667  0.000000\n2  0.625000   0.5  0.375000  0.000000  0.500000\n3  1.125000   1.0  0.000000  0.875000 -2.000000\n4  2.000000   2.0  0.000000  1.041667  1.166667\n5  1.125000   1.0  0.875000  0.000000  2.000000\n6  2.000000   1.0  0.875000  1.000000  0.000000\n7  0.000000   1.0  2.000000  0.875000  1.000000",
      "text/html": "<div>\n<style scoped>\n    .dataframe tbody tr th:only-of-type {\n        vertical-align: middle;\n    }\n\n    .dataframe tbody tr th {\n        vertical-align: top;\n    }\n\n    .dataframe thead th {\n        text-align: right;\n    }\n</style>\n<table border=\"1\" class=\"dataframe\">\n  <thead>\n    <tr style=\"text-align: right;\">\n      <th></th>\n      <th>Tim</th>\n      <th>Alex</th>\n      <th>Yuan</th>\n      <th>Alan</th>\n      <th>Peter</th>\n    </tr>\n  </thead>\n  <tbody>\n    <tr>\n      <th>0</th>\n      <td>1.291667</td>\n      <td>1.0</td>\n      <td>1.000000</td>\n      <td>2.000000</td>\n      <td>1.166667</td>\n    </tr>\n    <tr>\n      <th>1</th>\n      <td>1.000000</td>\n      <td>0.0</td>\n      <td>0.541667</td>\n      <td>0.541667</td>\n      <td>0.000000</td>\n    </tr>\n    <tr>\n      <th>2</th>\n      <td>0.625000</td>\n      <td>0.5</td>\n      <td>0.375000</td>\n      <td>0.000000</td>\n      <td>0.500000</td>\n    </tr>\n    <tr>\n      <th>3</th>\n      <td>1.125000</td>\n      <td>1.0</td>\n      <td>0.000000</td>\n      <td>0.875000</td>\n      <td>-2.000000</td>\n    </tr>\n    <tr>\n      <th>4</th>\n      <td>2.000000</td>\n      <td>2.0</td>\n      <td>0.000000</td>\n      <td>1.041667</td>\n      <td>1.166667</td>\n    </tr>\n    <tr>\n      <th>5</th>\n      <td>1.125000</td>\n      <td>1.0</td>\n      <td>0.875000</td>\n      <td>0.000000</td>\n      <td>2.000000</td>\n    </tr>\n    <tr>\n      <th>6</th>\n      <td>2.000000</td>\n      <td>1.0</td>\n      <td>0.875000</td>\n      <td>1.000000</td>\n      <td>0.000000</td>\n    </tr>\n    <tr>\n      <th>7</th>\n      <td>0.000000</td>\n      <td>1.0</td>\n      <td>2.000000</td>\n      <td>0.875000</td>\n      <td>1.000000</td>\n    </tr>\n  </tbody>\n</table>\n</div>"
     },
     "execution_count": 15,
     "metadata": {},
     "output_type": "execute_result"
    }
   ],
   "source": [
    "norm_completion = pd.read_csv('./datasets/movie person 1.csv')\n",
    "norm_completion"
   ],
   "metadata": {
    "collapsed": false
   }
  },
  {
   "cell_type": "code",
   "execution_count": 16,
   "outputs": [
    {
     "name": "stdout",
     "output_type": "stream",
     "text": [
      "<class 'pandas.core.frame.DataFrame'>\n",
      "RangeIndex: 8 entries, 0 to 7\n",
      "Data columns (total 5 columns):\n",
      " #   Column  Non-Null Count  Dtype  \n",
      "---  ------  --------------  -----  \n",
      " 0   Tim     8 non-null      float64\n",
      " 1   Alex    8 non-null      float64\n",
      " 2   Yuan    8 non-null      float64\n",
      " 3   Alan    8 non-null      float64\n",
      " 4   Peter   8 non-null      float64\n",
      "dtypes: float64(5)\n",
      "memory usage: 448.0 bytes\n"
     ]
    }
   ],
   "source": [
    "norm_completion.info()"
   ],
   "metadata": {
    "collapsed": false
   }
  },
  {
   "cell_type": "code",
   "execution_count": 17,
   "outputs": [
    {
     "data": {
      "text/plain": "array([[ 1.29166667,  1.        ,  1.        ,  2.        ,  1.16666667],\n       [ 1.        ,  0.        ,  0.54166667,  0.54166667,  0.        ],\n       [ 0.625     ,  0.5       ,  0.375     ,  0.        ,  0.5       ],\n       [ 1.125     ,  1.        ,  0.        ,  0.875     , -2.        ],\n       [ 2.        ,  2.        ,  0.        ,  1.04166667,  1.16666667],\n       [ 1.125     ,  1.        ,  0.875     ,  0.        ,  2.        ],\n       [ 2.        ,  1.        ,  0.875     ,  1.        ,  0.        ],\n       [ 0.        ,  1.        ,  2.        ,  0.875     ,  1.        ]])"
     },
     "execution_count": 17,
     "metadata": {},
     "output_type": "execute_result"
    }
   ],
   "source": [
    "norm_completion.values"
   ],
   "metadata": {
    "collapsed": false
   }
  },
  {
   "cell_type": "code",
   "execution_count": 18,
   "outputs": [
    {
     "name": "stdout",
     "output_type": "stream",
     "text": [
      "[[ 1.55379482  1.31532454  0.96460883  1.12917092  0.88697325]\n",
      " [ 0.58522251  0.49540488  0.36331103  0.42529183  0.33407031]\n",
      " [ 0.4333798   0.36686639  0.26904581  0.31494498  0.24739193]\n",
      " [-0.37467221 -0.317169   -0.23259964 -0.2722811  -0.21387909]\n",
      " [ 1.63417767  1.38337055  1.01451117  1.1875866   0.93285926]\n",
      " [ 1.2369532   1.04711052  0.7679109   0.89891636  0.70610636]\n",
      " [ 1.3925803   1.17885259  0.86452551  1.0120134   0.79494503]\n",
      " [ 1.01808316  0.86183178  0.63203454  0.73985953  0.58116588]]\n"
     ]
    }
   ],
   "source": [
    "print(tsvd_rank1.values)"
   ],
   "metadata": {
    "collapsed": false
   }
  },
  {
   "cell_type": "code",
   "execution_count": 19,
   "outputs": [
    {
     "name": "stdout",
     "output_type": "stream",
     "text": [
      "[[ 1.42214080e+00  1.27717299e+00  1.31992370e+00  1.33524032e+00\n",
      "   5.25426345e-01]\n",
      " [ 6.80386497e-01  5.11316816e-01  4.03841617e-01  5.54990656e-01\n",
      "  -6.54264973e-02]\n",
      " [ 5.36028579e-01  3.88496758e-01  1.98895912e-01  3.48141620e-01\n",
      "   6.95245852e-02]\n",
      " [ 9.82258509e-02 -2.32997123e-01 -1.61215723e-01  2.50387951e-01\n",
      "  -1.91014237e+00]\n",
      " [ 2.29824997e+00  1.53989255e+00  1.37854441e-01  1.00612265e+00\n",
      "   7.21832960e-01]\n",
      " [ 9.23961566e-01  9.95685051e-01  6.11449328e-01  4.50640173e-01\n",
      "   2.07150335e+00]\n",
      " [ 1.75472967e+00  1.25217926e+00  6.93156769e-01  1.20046578e+00\n",
      "  -1.74789322e-03]\n",
      " [ 1.13627462e-01  6.43620946e-01  1.95425908e+00  1.10717384e+00\n",
      "   5.83608498e-01]]\n"
     ]
    }
   ],
   "source": [
    "print(tsvd_rank3.values)"
   ],
   "metadata": {
    "collapsed": false
   }
  },
  {
   "cell_type": "code",
   "execution_count": 20,
   "outputs": [
    {
     "data": {
      "text/plain": "True"
     },
     "execution_count": 20,
     "metadata": {},
     "output_type": "execute_result"
    }
   ],
   "source": [
    "np.array_equal(rank_1_approximation, tsvd_rank1)"
   ],
   "metadata": {
    "collapsed": false
   }
  },
  {
   "cell_type": "code",
   "execution_count": 21,
   "outputs": [
    {
     "name": "stdout",
     "output_type": "stream",
     "text": [
      "[[ 1  1  1  2  2]\n",
      " [ 1  0  2  2  0]\n",
      " [-2  2  0  0 -1]\n",
      " [-1  1  0  0 -2]\n",
      " [ 2  2  0  2  1]\n",
      " [ 2 -1  0  0  2]\n",
      " [ 2  1  1  1  0]\n",
      " [ 0  1  2  1  1]]\n"
     ]
    }
   ],
   "source": [
    "print(array_from_df)"
   ],
   "metadata": {
    "collapsed": false
   }
  },
  {
   "cell_type": "code",
   "execution_count": 22,
   "outputs": [],
   "source": [
    "\n",
    "\n",
    "def calculate_mae(matrix11, matrix22):\n",
    "    \"\"\"\n",
    "    Calculate the Mean Absolute Error (MAE) for each element between two matrices.\n",
    "\n",
    "    Parameters:\n",
    "    - matrix1, matrix2: NumPy arrays of the same shape.\n",
    "\n",
    "    Returns:\n",
    "    - mae_matrix: NumPy array containing the MAE for each element.\n",
    "    - total_mae: Summation of MAE values.\n",
    "    \"\"\"\n",
    "    # Calculate the absolute difference between corresponding elements\n",
    "    absolute_difference = np.abs(matrix11 - matrix22)\n",
    "\n",
    "    # Calculate the MAE for each element\n",
    "    mae_matrix = absolute_difference.mean(axis=None)\n",
    "\n",
    "    # Calculate the total MAE by summing all MAE values\n",
    "    total_maeee = mae_matrix.sum()\n",
    "\n",
    "    return mae_matrix, total_maeee\n",
    "\n"
   ],
   "metadata": {
    "collapsed": false
   }
  },
  {
   "cell_type": "code",
   "execution_count": 23,
   "outputs": [],
   "source": [
    "\n",
    "\n",
    "def calculate_mse(matrix1, matrix2):\n",
    "    \"\"\"\n",
    "    Calculate the Mean Squared Error (MSE) for each element between two matrices.\n",
    "\n",
    "    Parameters:\n",
    "    - matrix1, matrix2: NumPy arrays of the same shape.\n",
    "\n",
    "    Returns:\n",
    "    - mse_matrix: NumPy array containing the MSE for each element.\n",
    "    - total_mse: Summation of MSE values.\n",
    "    \"\"\"\n",
    "    # Calculate the squared difference between corresponding elements\n",
    "    squared_difference = (matrix1 - matrix2) ** 2\n",
    "\n",
    "    # Calculate the MSE for each element\n",
    "    mse_matrix = squared_difference.mean(axis=None)\n",
    "\n",
    "    # Calculate the total MSE by summing all MSE values\n",
    "    total_mse = mse_matrix.sum()\n",
    "\n",
    "    return mse_matrix, total_mse\n"
   ],
   "metadata": {
    "collapsed": false
   }
  },
  {
   "cell_type": "code",
   "execution_count": 24,
   "outputs": [
    {
     "name": "stdout",
     "output_type": "stream",
     "text": [
      "MAE for Each Element:\n",
      "Tim      0.739583\n",
      "Alex     0.437500\n",
      "Yuan     0.354167\n",
      "Alan     0.427083\n",
      "Peter    0.312500\n",
      "dtype: float64\n",
      "\n",
      "Total MAE: 2.27083333325\n",
      "MSE for Each Element:\n",
      "Tim      1.532118\n",
      "Alex     0.781250\n",
      "Yuan     0.381076\n",
      "Alan     0.478299\n",
      "Peter    0.371528\n",
      "dtype: float64\n",
      "\n",
      "Total MSE: 3.5442708329791666\n"
     ]
    },
    {
     "name": "stderr",
     "output_type": "stream",
     "text": [
      "C:\\Users\\mitlonginus\\AppData\\Local\\Temp\\ipykernel_8212\\2528954218.py:16: FutureWarning: In a future version, DataFrame.mean(axis=None) will return a scalar mean over the entire DataFrame. To retain the old behavior, use 'frame.mean(axis=0)' or just 'frame.mean()'\n",
      "  mae_matrix = absolute_difference.mean(axis=None)\n",
      "C:\\Users\\mitlonginus\\AppData\\Local\\Temp\\ipykernel_8212\\520113745.py:16: FutureWarning: In a future version, DataFrame.mean(axis=None) will return a scalar mean over the entire DataFrame. To retain the old behavior, use 'frame.mean(axis=0)' or just 'frame.mean()'\n",
      "  mse_matrix = squared_difference.mean(axis=None)\n"
     ]
    }
   ],
   "source": [
    "# Calculate MAE and total MAE\n",
    "mae_per_element_norm, total_mae_norm = calculate_mae(array_from_df, norm_completion)\n",
    "\n",
    "# Display the results\n",
    "print(\"MAE for Each Element:\")\n",
    "print(mae_per_element_norm)\n",
    "print(\"\\nTotal MAE:\", total_mae_norm)\n",
    "# Calculate MSE and total MSE\n",
    "mse_per_element_norm, total_mse_norm = calculate_mse(array_from_df, norm_completion)\n",
    "\n",
    "# Display the results\n",
    "print(\"MSE for Each Element:\")\n",
    "print(mse_per_element_norm)\n",
    "print(\"\\nTotal MSE:\", total_mse_norm)"
   ],
   "metadata": {
    "collapsed": false
   }
  },
  {
   "cell_type": "code",
   "execution_count": 25,
   "outputs": [
    {
     "name": "stdout",
     "output_type": "stream",
     "text": [
      "MAE for Each Element:\n",
      "0.7763675676612106\n",
      "\n",
      "Total MAE: 0.7763675676612106\n",
      "MSE for Each Element:\n",
      "0.9531633876862123\n",
      "\n",
      "Total MSE: 0.9531633876862123\n"
     ]
    }
   ],
   "source": [
    "# Calculate MAE and total MAE\n",
    "mae_per_element_1, total_mae_1 = calculate_mae(array_from_df, rank_1_approximation)\n",
    "\n",
    "# Display the results\n",
    "print(\"MAE for Each Element:\")\n",
    "print(mae_per_element_1)\n",
    "print(\"\\nTotal MAE:\", total_mae_1)\n",
    "# Calculate MSE and total MSE\n",
    "mse_per_element_1, total_mse_1 = calculate_mse(array_from_df, rank_1_approximation)\n",
    "\n",
    "# Display the results\n",
    "print(\"MSE for Each Element:\")\n",
    "print(mse_per_element_1)\n",
    "print(\"\\nTotal MSE:\", total_mse_1)"
   ],
   "metadata": {
    "collapsed": false
   }
  },
  {
   "cell_type": "code",
   "execution_count": 26,
   "outputs": [
    {
     "name": "stdout",
     "output_type": "stream",
     "text": [
      "MAE for Each Element:\n",
      "0.602806636010944\n",
      "\n",
      "Total MAE: 0.602806636010944\n",
      "MSE for Each Element:\n",
      "0.7206486773049415\n",
      "\n",
      "Total MSE: 0.7206486773049415\n"
     ]
    }
   ],
   "source": [
    "# Calculate MAE and total MAE\n",
    "mae_per_element_3, total_mae_3 = calculate_mae(array_from_df, rank_3_approximation)\n",
    "\n",
    "# Display the results\n",
    "print(\"MAE for Each Element:\")\n",
    "print(mae_per_element_3)\n",
    "print(\"\\nTotal MAE:\", total_mae_3)\n",
    "# Calculate MSE and total MSE\n",
    "mse_per_element_3, total_mse_3 = calculate_mse(array_from_df, rank_3_approximation)\n",
    "\n",
    "# Display the results\n",
    "print(\"MSE for Each Element:\")\n",
    "print(mse_per_element_3)\n",
    "print(\"\\nTotal MSE:\", total_mse_3)"
   ],
   "metadata": {
    "collapsed": false
   }
  },
  {
   "cell_type": "code",
   "execution_count": 26,
   "outputs": [],
   "source": [
    "\n"
   ],
   "metadata": {
    "collapsed": false
   }
  }
 ],
 "metadata": {
  "kernelspec": {
   "display_name": "Python 3",
   "language": "python",
   "name": "python3"
  },
  "language_info": {
   "codemirror_mode": {
    "name": "ipython",
    "version": 2
   },
   "file_extension": ".py",
   "mimetype": "text/x-python",
   "name": "python",
   "nbconvert_exporter": "python",
   "pygments_lexer": "ipython2",
   "version": "2.7.6"
  }
 },
 "nbformat": 4,
 "nbformat_minor": 0
}
